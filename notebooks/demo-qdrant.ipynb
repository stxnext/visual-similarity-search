{
 "cells": [
  {
   "cell_type": "code",
   "execution_count": null,
   "id": "0f7bb402-bbf0-49c9-a852-f26cd5ef7b48",
   "metadata": {
    "pycharm": {
     "is_executing": true
    }
   },
   "outputs": [],
   "source": [
    "# Import client library\n",
    "import os\n",
    "import sys\n",
    "module_path = os.path.abspath(os.path.join('..'))\n",
    "if module_path not in sys.path:\n",
    "    sys.path.append(module_path)\n",
    "\n",
    "import numpy as np\n",
    "\n",
    "from qdrant_client import QdrantClient\n",
    "from qdrant_client.http import models\n",
    "\n",
    "from metrics.indexer import create_collection, upload_indexes\n",
    "\n",
    "client = QdrantClient(host=\"localhost\", port=6333)\n",
    "\n",
    "client.get_collections()"
   ]
  },
  {
   "cell_type": "code",
   "execution_count": null,
   "id": "1b69edb0-5a93-4770-a0d4-04ad3fd027a4",
   "metadata": {},
   "outputs": [],
   "source": [
    "pwd"
   ]
  },
  {
   "cell_type": "code",
   "execution_count": null,
   "id": "40183a17-68d4-4bc3-af14-d6dbb998e3d3",
   "metadata": {},
   "outputs": [],
   "source": [
    "# env"
   ]
  },
  {
   "cell_type": "markdown",
   "id": "c22e97d6-dc00-4eee-b6cb-9c933a2aa4c2",
   "metadata": {
    "jupyter": {
     "outputs_hidden": false
    }
   },
   "source": [
    "## Dogs indexing"
   ]
  },
  {
   "cell_type": "code",
   "execution_count": null,
   "id": "f1681044",
   "metadata": {
    "collapsed": false,
    "jupyter": {
     "outputs_hidden": false
    }
   },
   "outputs": [],
   "source": [
    "# create_collection(\n",
    "#     client=client,\n",
    "#     collection_name=\"dogs\", \n",
    "#     vector_size=1024, \n",
    "#     distance=\"Cosine\"\n",
    "# )\n",
    "# client.get_collections()"
   ]
  },
  {
   "cell_type": "code",
   "execution_count": null,
   "id": "9d615b1b",
   "metadata": {
    "collapsed": false,
    "jupyter": {
     "outputs_hidden": false
    }
   },
   "outputs": [],
   "source": [
    "# upload_indexes(\n",
    "#     client=client,\n",
    "#     collection_name=\"dogs\",\n",
    "#     # meta_file=\"data/qdrant_storage/meta_dogs.csv\",\n",
    "#     # meta_file=\"data/qdrant_storage/meta_dogs_test.csv\",\n",
    "#     meta_file=\"data/qdrant_storage/meta_dogs_test_v2.csv\",\n",
    "#     dataset_dir=\"data/metric_datasets/dogs\",\n",
    "#     qdrant_batch=256,\n",
    "#     meta_filter=None,\n",
    "# )"
   ]
  },
  {
   "cell_type": "code",
   "execution_count": null,
   "id": "d90121f5",
   "metadata": {
    "collapsed": false,
    "jupyter": {
     "outputs_hidden": false
    }
   },
   "outputs": [],
   "source": [
    "my_collection_info = client.http.collections_api.get_collection(\"dogs\")\n",
    "print(my_collection_info.dict())"
   ]
  },
  {
   "cell_type": "code",
   "execution_count": null,
   "id": "f237e237-24a6-419e-9c0f-adb4f7489fd9",
   "metadata": {},
   "outputs": [],
   "source": [
    "query_vector = np.random.rand(1024)\n",
    "hits = client.search(\n",
    "    collection_name=\"dogs\",\n",
    "    query_vector=query_vector,\n",
    "    query_filter=None,  # Don't use any filters for now, search across all indexed points\n",
    "    append_payload=True,  # Also return a stored payload for found points\n",
    "    limit=5  # Return 5 closest points\n",
    ")\n",
    "\n",
    "hits"
   ]
  },
  {
   "cell_type": "code",
   "execution_count": null,
   "id": "0af14ed7-257e-4324-b971-936918ce232a",
   "metadata": {},
   "outputs": [],
   "source": [
    "# client.delete_collection(collection_name=\"dogs\")"
   ]
  },
  {
   "cell_type": "markdown",
   "id": "fcf87233-ff87-47be-b990-fe4b7c4fa47d",
   "metadata": {},
   "source": [
    "## Shoes indexing"
   ]
  },
  {
   "cell_type": "code",
   "execution_count": null,
   "id": "bca3561f-0b95-453b-bee5-8e092f4149dd",
   "metadata": {},
   "outputs": [],
   "source": [
    "# create_collection(\n",
    "#     client=client,\n",
    "#     collection_name=\"shoes\", \n",
    "#     vector_size=1024, \n",
    "#     distance=\"Cosine\"\n",
    "# )\n",
    "# client.get_collections()"
   ]
  },
  {
   "cell_type": "code",
   "execution_count": null,
   "id": "08749d03",
   "metadata": {
    "collapsed": false,
    "jupyter": {
     "outputs_hidden": false
    }
   },
   "outputs": [],
   "source": [
    "# upload_indexes(\n",
    "#     client=client,\n",
    "#     collection_name=\"shoes\",\n",
    "#     meta_file=\"data/qdrant_storage/meta_shoes.csv\",\n",
    "#     # meta_file=\"data/qdrant_storage/meta_shoes_test.csv\",\n",
    "#     # meta_file=\"data/qdrant_storage/meta_shoes_test_v2.csv\",\n",
    "#     dataset_dir=\"data/metric_datasets/shoes\",\n",
    "#     qdrant_batch=256,\n",
    "#     meta_filter=None,\n",
    "# )"
   ]
  },
  {
   "cell_type": "code",
   "execution_count": null,
   "id": "30fa564f",
   "metadata": {
    "collapsed": false,
    "jupyter": {
     "outputs_hidden": false
    }
   },
   "outputs": [],
   "source": [
    "my_collection_info = client.http.collections_api.get_collection(\"shoes\")\n",
    "print(my_collection_info.dict())"
   ]
  },
  {
   "cell_type": "code",
   "execution_count": null,
   "id": "3881d0d4",
   "metadata": {
    "collapsed": false,
    "jupyter": {
     "outputs_hidden": false
    }
   },
   "outputs": [],
   "source": [
    "query_vector = np.random.rand(1024)\n",
    "hits = client.search(\n",
    "    collection_name=\"shoes\",\n",
    "    query_vector=query_vector,\n",
    "    query_filter=None,  # Don't use any filters for now, search across all indexed points\n",
    "    append_payload=True,  # Also return a stored payload for found points\n",
    "    limit=5  # Return 5 closest points\n",
    ")\n",
    "\n",
    "hits"
   ]
  },
  {
   "cell_type": "code",
   "execution_count": null,
   "id": "e9a9765c",
   "metadata": {
    "collapsed": false,
    "jupyter": {
     "outputs_hidden": false
    }
   },
   "outputs": [],
   "source": [
    "# client.delete_collection(collection_name=\"shoes\")"
   ]
  },
  {
   "cell_type": "markdown",
   "id": "803388b8-3a17-4eb5-91b0-527660dfc9d9",
   "metadata": {},
   "source": [
    "### Celebrities Small Indexing"
   ]
  },
  {
   "cell_type": "code",
   "execution_count": null,
   "id": "0b9403ee-8135-455d-bd97-922d6423579b",
   "metadata": {},
   "outputs": [],
   "source": [
    "# create_collection(\n",
    "#     client=client,\n",
    "#     collection_name=\"celebrities_small\", \n",
    "#     vector_size=1024, \n",
    "#     distance=\"Cosine\"\n",
    "# )\n",
    "# client.get_collections()"
   ]
  },
  {
   "cell_type": "code",
   "execution_count": null,
   "id": "74d1c954-e809-425e-a324-a095359bc50c",
   "metadata": {},
   "outputs": [],
   "source": [
    "upload_indexes(\n",
    "    client=client,\n",
    "    collection_name=\"celebrities_small\",\n",
    "    meta_file=\"data/qdrant_storage/meta_celebrities_small.csv\",\n",
    "    # meta_file=\"data/qdrant_storage/meta_shoes_test.csv\",\n",
    "    # meta_file=\"data/qdrant_storage/meta_shoes_test_v2.csv\",\n",
    "    dataset_dir=\"data/metric_datasets/celebrities_small\",\n",
    "    qdrant_batch=256,\n",
    "    meta_filter=None,\n",
    ")"
   ]
  },
  {
   "cell_type": "code",
   "execution_count": null,
   "id": "6994bfb6-b92c-4ff2-a74c-0046c2d33365",
   "metadata": {},
   "outputs": [],
   "source": [
    "my_collection_info = client.http.collections_api.get_collection(\"celebrities_small\")\n",
    "print(my_collection_info.dict())"
   ]
  },
  {
   "cell_type": "code",
   "execution_count": null,
   "id": "f32aefd7-17fc-4b68-9b45-f4bbc8fdd955",
   "metadata": {},
   "outputs": [],
   "source": [
    "query_vector = np.random.rand(1024)\n",
    "hits = client.search(\n",
    "    collection_name=\"celebrities_small\",\n",
    "    query_vector=query_vector,\n",
    "    query_filter=None,  # Don't use any filters for now, search across all indexed points\n",
    "    append_payload=True,  # Also return a stored payload for found points\n",
    "    limit=5  # Return 5 closest points\n",
    ")\n",
    "\n",
    "hits"
   ]
  },
  {
   "cell_type": "code",
   "execution_count": null,
   "id": "bffbc400-24c2-4543-8150-4e5571f04536",
   "metadata": {},
   "outputs": [],
   "source": [
    "client.delete_collection(collection_name=\"celebrities_small\")"
   ]
  },
  {
   "cell_type": "markdown",
   "id": "54cbb2be-da54-49d8-918b-a75b06f39df6",
   "metadata": {},
   "source": [
    "## General Example"
   ]
  },
  {
   "cell_type": "code",
   "execution_count": null,
   "id": "908bb6f9",
   "metadata": {
    "collapsed": false,
    "jupyter": {
     "outputs_hidden": false
    }
   },
   "outputs": [],
   "source": [
    "# import numpy as np\n",
    "# import json\n",
    "#\n",
    "# fd = open('./startups.json')\n",
    "#\n",
    "# # payload is now an iterator over startup data\n",
    "# payload = map(json.loads, fd)\n",
    "#\n",
    "# # Here we load all vectors into memory, numpy array works as iterable for itself.\n",
    "# # Other option would be to use Mmap, if we don't want to load all data into RAM\n",
    "# vectors = np.load('./startup_vectors.npy')\n",
    "#\n",
    "# qdrant_client.upload_collection(\n",
    "#     collection_name=collection_name,\n",
    "#     vectors=vectors,\n",
    "#     payload=payload,\n",
    "#     ids=None,  # Vector ids will be assigned automatically\n",
    "#     batch_size=256  # How many vectors will be uploaded in a single request?\n",
    "# )\n",
    "#\n",
    "# vector = vectors[0]\n",
    "#\n"
   ]
  },
  {
   "cell_type": "code",
   "execution_count": null,
   "id": "ff084e28",
   "metadata": {
    "collapsed": false,
    "jupyter": {
     "outputs_hidden": false
    }
   },
   "outputs": [],
   "source": [
    "# from qdrant_client.http.models.models import Filter\n",
    "#\n",
    "#\n",
    "# city_of_interest = \"Berlin\"\n",
    "#\n",
    "# # Define a filter for cities\n",
    "# city_filter = Filter(**{\n",
    "#     \"must\": [{\n",
    "#         \"key\": \"city\", # We store city information in a field of the same name\n",
    "#         \"match\": { # This condition checks if payload field have requested value\n",
    "#             \"keyword\": city_of_interest\n",
    "#         }\n",
    "#     }]\n",
    "# })\n",
    "#\n",
    "# search_result = qdrant_client.search(\n",
    "#     collection_name=\"startups\",\n",
    "#     query_vector=vector,\n",
    "#     query_filter=city_filter,\n",
    "#     limit=50\n",
    "# )"
   ]
  },
  {
   "cell_type": "code",
   "execution_count": null,
   "id": "149681e1",
   "metadata": {
    "collapsed": false,
    "jupyter": {
     "outputs_hidden": false
    }
   },
   "outputs": [],
   "source": []
  }
 ],
 "metadata": {
  "kernelspec": {
   "display_name": "Python 3 (ipykernel)",
   "language": "python",
   "name": "python3"
  },
  "language_info": {
   "codemirror_mode": {
    "name": "ipython",
    "version": 3
   },
   "file_extension": ".py",
   "mimetype": "text/x-python",
   "name": "python",
   "nbconvert_exporter": "python",
   "pygments_lexer": "ipython3",
   "version": "3.8.10"
  }
 },
 "nbformat": 4,
 "nbformat_minor": 5
}
