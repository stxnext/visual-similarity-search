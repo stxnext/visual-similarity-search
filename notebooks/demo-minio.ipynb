{
 "cells": [
  {
   "cell_type": "markdown",
   "id": "ac172e73-586e-45d0-839c-97a81ea15119",
   "metadata": {},
   "source": [
    "### Define cient"
   ]
  },
  {
   "cell_type": "code",
   "execution_count": null,
   "id": "a1b8549d-56f6-42e6-b9ae-a6e75461419b",
   "metadata": {},
   "outputs": [],
   "source": [
    "import os\n",
    "import sys\n",
    "module_path = os.path.abspath(os.path.join('..'))\n",
    "if module_path not in sys.path:\n",
    "    sys.path.append(module_path)\n",
    "\n",
    "import pandas as pd\n",
    "\n",
    "from minio import Minio"
   ]
  },
  {
   "cell_type": "code",
   "execution_count": null,
   "id": "78ed5283-922f-4934-800b-461bc9ba4138",
   "metadata": {},
   "outputs": [],
   "source": [
    "# Define client with service account\n",
    "client = Minio('s3.stxnext.pl',\n",
    "                     access_key='ACCESS_KEY',\n",
    "                     secret_key='SECRET_KEY',\n",
    "                     secure=True)"
   ]
  },
  {
   "cell_type": "code",
   "execution_count": null,
   "id": "fa399fd8-9c53-4f58-9a42-7e990f101877",
   "metadata": {},
   "outputs": [],
   "source": [
    "tags = client.get_bucket_tags(\"ml-demo\")\n",
    "tags"
   ]
  },
  {
   "cell_type": "code",
   "execution_count": null,
   "id": "70445050-4233-4c15-83d8-bad2d8e6a424",
   "metadata": {},
   "outputs": [],
   "source": [
    "type(client)"
   ]
  },
  {
   "cell_type": "markdown",
   "id": "5c41c352-9c3b-445c-8164-0d91fe023de4",
   "metadata": {},
   "source": [
    "### Bucket operations"
   ]
  },
  {
   "cell_type": "code",
   "execution_count": null,
   "id": "a0fc9d83-e13a-4721-8c99-cf323f6a85d8",
   "metadata": {},
   "outputs": [],
   "source": [
    "# Check if bucket exists\n",
    "if client.bucket_exists(\"ml-demo\"):\n",
    "    print(\"my-bucket exists\")\n",
    "else:\n",
    "    print(\"my-bucket does not exist\")"
   ]
  },
  {
   "cell_type": "code",
   "execution_count": null,
   "id": "0d34f21f-bab2-458a-a6c3-35c22e7671ac",
   "metadata": {},
   "outputs": [],
   "source": [
    "# List buckets\n",
    "client.list_buckets()"
   ]
  },
  {
   "cell_type": "code",
   "execution_count": null,
   "id": "b8068908-ee34-49fe-bdc1-47d7beba9c93",
   "metadata": {},
   "outputs": [],
   "source": [
    "# List objects information.\n",
    "objects = client.list_objects(\"ml-demo\")\n",
    "for obj in objects:\n",
    "    print(obj)"
   ]
  },
  {
   "cell_type": "code",
   "execution_count": null,
   "id": "122cc268-624c-4361-ad5d-aa029ba6dd9e",
   "metadata": {},
   "outputs": [],
   "source": [
    "# List objects information whose names starts with \"my/prefix/\".\n",
    "objects = client.list_objects(\"ml-demo\", prefix=\"data/test/\")\n",
    "for obj in objects:\n",
    "    print(obj.object_name)\n",
    "    print(obj.is_dir)\n",
    "    print(obj.size)\n",
    "    print(obj.metadata)"
   ]
  },
  {
   "cell_type": "markdown",
   "id": "a453e96e-d4f2-45e2-90df-c8d46cc03037",
   "metadata": {},
   "source": [
    "### Object operations"
   ]
  },
  {
   "cell_type": "code",
   "execution_count": null,
   "id": "de9ba240-ceb0-41f2-acc1-748134490df6",
   "metadata": {},
   "outputs": [],
   "source": [
    "# Get data of an object.\n",
    "try:\n",
    "    response = client.get_object(\"ml-demo\", \"data/test/mlmldata.csv\")\n",
    "    # Read data from response.\n",
    "    df = pd.read_csv(response)\n",
    "finally:\n",
    "    response.close()\n",
    "    response.release_conn()\n",
    "    \n",
    "    \n",
    "df.head(3)"
   ]
  },
  {
   "cell_type": "code",
   "execution_count": null,
   "id": "5df83dcc-cf40-497f-b688-2b2ef2e20b5c",
   "metadata": {},
   "outputs": [],
   "source": [
    "# Download data of an object.\n",
    "client.fget_object(\"ml-demo\", \"data/test/mlmldata.csv\", \"mlmldata.csv\")"
   ]
  },
  {
   "cell_type": "code",
   "execution_count": null,
   "id": "c075dc25-7b73-44b1-acf2-ed463073995e",
   "metadata": {},
   "outputs": [],
   "source": [
    "# PUT\n",
    "\n",
    "# Progress() -> https://github.com/minio/minio-py/blob/master/examples/progress.py\n",
    "\n",
    "import io\n",
    "from urllib.request import urlopen\n",
    "\n",
    "# Upload data.\n",
    "result = client.put_object(\n",
    "    \"ml-demo\", \"my-hello-object\", io.BytesIO(b\"hello\"), 5,\n",
    "    # progress=Progress(),\n",
    ")\n",
    "print(\n",
    "    \"created {0} object; etag: {1}, version-id: {2}\".format(\n",
    "        result.object_name, result.etag, result.version_id,\n",
    "    ),\n",
    ")\n",
    "\n",
    "# Upload unknown sized data.\n",
    "data = urlopen(\n",
    "    \"https://cdn.kernel.org/pub/linux/kernel/v5.x/linux-5.4.81.tar.xz\",\n",
    ")\n",
    "result = client.put_object(\n",
    "    \"ml-demo\", \"my-big-hello-object\", data, length=-1, part_size=10*1024*1024,\n",
    "    # progress=Progress(),\n",
    ")\n",
    "print(\n",
    "    \"created {0} object; etag: {1}, version-id: {2}\".format(\n",
    "        result.object_name, result.etag, result.version_id,\n",
    "    ),\n",
    ")\n"
   ]
  },
  {
   "cell_type": "code",
   "execution_count": null,
   "id": "94c27367-ea69-49e6-9b73-77d0dbabee31",
   "metadata": {},
   "outputs": [],
   "source": [
    "# FPUT\n",
    "\n",
    "# Progress() -> https://github.com/minio/minio-py/blob/master/examples/progress.py\n",
    "\n",
    "# Upload data with content-type.\n",
    "result = client.fput_object(\n",
    "    \"ml-demo\", \"test-2/mlmldata.csv\", \"mlmldata.csv\",\n",
    "    content_type=\"application/csv\",\n",
    "    # progress=Progress(),\n",
    ")\n",
    "print(\n",
    "    \"created {0} object; etag: {1}, version-id: {2}\".format(\n",
    "        result.object_name, result.etag, result.version_id,\n",
    "    ),\n",
    ")"
   ]
  },
  {
   "cell_type": "code",
   "execution_count": null,
   "id": "b2b7cfc3-b602-4b9c-98cc-ef68ccfff305",
   "metadata": {},
   "outputs": [],
   "source": [
    "# Remove object.\n",
    "client.remove_object(\"my-bucket\", \"my-object\")\n",
    "\n",
    "# Remove version of an object.\n",
    "client.remove_object(\n",
    "    \"my-bucket\", \"my-object\",\n",
    "    version_id=\"dfbd25b3-abec-4184-a4e8-5a35a5c1174d\",\n",
    ")"
   ]
  },
  {
   "cell_type": "code",
   "execution_count": null,
   "id": "2e6f18e4-06d9-4d67-b814-078cadaa019f",
   "metadata": {},
   "outputs": [],
   "source": [
    "# Remove list of objects.\n",
    "errors = client.remove_objects(\n",
    "    \"my-bucket\",\n",
    "    [\n",
    "        DeleteObject(\"my-object1\"),\n",
    "        DeleteObject(\"my-object2\"),\n",
    "        DeleteObject(\"my-object3\", \"13f88b18-8dcd-4c83-88f2-8631fdb6250c\"),\n",
    "    ],\n",
    ")\n",
    "for error in errors:\n",
    "    print(\"error occured when deleting object\", error)\n",
    "\n",
    "# Remove a prefix recursively.\n",
    "delete_object_list = map(\n",
    "    lambda x: DeleteObject(x.object_name),\n",
    "    client.list_objects(\"my-bucket\", \"my/prefix/\", recursive=True),\n",
    ")\n",
    "errors = client.remove_objects(\"my-bucket\", delete_object_list)\n",
    "for error in errors:\n",
    "    print(\"error occured when deleting object\", error)"
   ]
  },
  {
   "cell_type": "code",
   "execution_count": null,
   "id": "3a018c9f-2191-4f5b-a855-b4bda19fd966",
   "metadata": {},
   "outputs": [],
   "source": [
    "from datetime import datetime, timezone\n",
    "from minio.commonconfig import REPLACE, CopySource\n",
    "\n",
    "# # copy an object from a bucket to another.\n",
    "# result = client.copy_object(\n",
    "#     \"my-bucket\",\n",
    "#     \"my-object\",\n",
    "#     CopySource(\"my-sourcebucket\", \"my-sourceobject\"),\n",
    "# )\n",
    "# print(result.object_name, result.version_id)\n",
    "\n",
    "# # copy an object with condition.\n",
    "# result = client.copy_object(\n",
    "#     \"my-bucket\",\n",
    "#     \"my-object\",\n",
    "#     CopySource(\n",
    "#         \"my-sourcebucket\",\n",
    "#         \"my-sourceobject\",\n",
    "#         modified_since=datetime(2014, 4, 1, tzinfo=timezone.utc),\n",
    "#     ),\n",
    "# )\n",
    "# print(result.object_name, result.version_id)"
   ]
  },
  {
   "cell_type": "code",
   "execution_count": null,
   "id": "41b7e064-544a-42bf-b117-4040c292d16c",
   "metadata": {},
   "outputs": [],
   "source": [
    "# Select content of an object by SQL expression.\n",
    "# with client.select_object_content(\n",
    "#         \"ml-demo\",\n",
    "#         \"data/test/mlmldata.csv\",\n",
    "#         SelectRequest(\n",
    "#             \"select * from S3Object\",\n",
    "#             CSVInputSerialization(),\n",
    "#             CSVOutputSerialization(),\n",
    "#             request_progress=True,\n",
    "#         ),\n",
    "# ) as result:\n",
    "#     for data in result.stream():\n",
    "#         print(data.decode())\n",
    "#     print(result.stats())"
   ]
  },
  {
   "cell_type": "code",
   "execution_count": null,
   "id": "bf7ff533-bb34-41b9-a924-c562dcf930f2",
   "metadata": {},
   "outputs": [],
   "source": []
  }
 ],
 "metadata": {
  "kernelspec": {
   "display_name": "Python 3 (ipykernel)",
   "language": "python",
   "name": "python3"
  },
  "language_info": {
   "codemirror_mode": {
    "name": "ipython",
    "version": 3
   },
   "file_extension": ".py",
   "mimetype": "text/x-python",
   "name": "python",
   "nbconvert_exporter": "python",
   "pygments_lexer": "ipython3",
   "version": "3.10.8"
  }
 },
 "nbformat": 4,
 "nbformat_minor": 5
}
