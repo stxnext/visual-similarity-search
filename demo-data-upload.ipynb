{
 "cells": [
  {
   "cell_type": "code",
   "execution_count": null,
   "id": "f701d067-5d96-44f0-ba91-a743636e5a60",
   "metadata": {},
   "outputs": [],
   "source": [
    "import glob\n",
    "import os\n",
    "\n",
    "from minio import Minio"
   ]
  },
  {
   "cell_type": "code",
   "execution_count": null,
   "id": "1758d6e7-9a98-4bd7-807c-4c4d059d334a",
   "metadata": {},
   "outputs": [],
   "source": [
    "pwd"
   ]
  },
  {
   "cell_type": "code",
   "execution_count": null,
   "id": "06fd0c1f-0064-43dd-b388-23c8546a0398",
   "metadata": {},
   "outputs": [],
   "source": [
    "# Define client with service account\n",
    "client = Minio('s3.stxnext.pl',\n",
    "                 access_key='ACCESS_KEY',\n",
    "                 secret_key='SECRET_KEY',\n",
    "                 secure=True)\n",
    "\n",
    "client.list_buckets()"
   ]
  },
  {
   "cell_type": "markdown",
   "id": "c06265a5-07b7-41eb-9226-1b32bc8e6ae1",
   "metadata": {},
   "source": [
    "### Upload"
   ]
  },
  {
   "cell_type": "code",
   "execution_count": null,
   "id": "a18c7641-a4ab-4efa-8ced-f0a99f807e0b",
   "metadata": {},
   "outputs": [],
   "source": [
    "def upload_local_directory_to_minio(local_path: str, bucket_name: str, minio_path: str):\n",
    "    \"\"\"\n",
    "    Uploads folder contents from local to MinIO.\n",
    "    \"\"\"\n",
    "    assert os.path.isdir(local_path)\n",
    "    \n",
    "    for i, local_file in glob.glob(local_path + '/**'):\n",
    "        local_file = local_file.replace(os.sep, '/')\n",
    "        if not os.path.isfile(local_file):\n",
    "            upload_local_directory_to_minio(local_file, bucket_name, minio_path)\n",
    "        else:\n",
    "            remote_path = os.path.join(minio_path, local_file)\n",
    "            remote_path = remote_path.replace(os.sep, \"/\")\n",
    "            if i%1000 == 0:\n",
    "                print(remote_path)\n",
    "            client.fput_object(bucket_name, remote_path, local_file)"
   ]
  },
  {
   "cell_type": "code",
   "execution_count": null,
   "id": "6442faf3-c2ba-4fc4-9979-6a8fe0b48b47",
   "metadata": {},
   "outputs": [],
   "source": [
    "# upload_local_directory_to_minio(\n",
    "#     local_path=\"data/models\",\n",
    "#     bucket_name=\"ml-demo\",\n",
    "#     minio_path=\"qdrant/v0.10.3/visual-similarity-search\",  # VERY IMPORTANT - LOAD DATA TO A PROPER VERSION OF QDRANT\n",
    "# )"
   ]
  },
  {
   "cell_type": "code",
   "execution_count": null,
   "id": "008ecd00-fcf2-49d3-aa02-8de000d0733c",
   "metadata": {},
   "outputs": [],
   "source": [
    "# upload_local_directory_to_minio(\n",
    "#     local_path=\"data/metric_datasets\",\n",
    "#     bucket_name=\"ml-demo\",\n",
    "#     minio_path=\"qdrant/v0.10.3/visual-similarity-search\",  # VERY IMPORTANT - LOAD DATA TO A PROPER VERSION OF QDRANT\n",
    "# )"
   ]
  },
  {
   "cell_type": "code",
   "execution_count": null,
   "id": "06dd77ab-d31e-44af-a60b-7acf6933437c",
   "metadata": {},
   "outputs": [],
   "source": [
    "# client.fput_object(\n",
    "#     \"ml-demo\", \n",
    "#     \"qdrant/v0.10.3/visual-similarity-search/data/qdrant_storage.zip\", \n",
    "#     \"data/qdrant_storage.zip\"\n",
    "# )"
   ]
  },
  {
   "cell_type": "markdown",
   "id": "1d607b74-7947-4680-bba1-71ed5f698b77",
   "metadata": {},
   "source": [
    "### Download"
   ]
  },
  {
   "cell_type": "code",
   "execution_count": null,
   "id": "6a428d7d-7c8c-4759-8248-f20fc7a2d83e",
   "metadata": {},
   "outputs": [],
   "source": [
    "metric_category = \"dogs\"\n",
    "obj_list = client.list_objects(\n",
    "    bucket_name=\"ml-demo\",\n",
    "    prefix=f\"qdrant/v0.10.3/visual-similarity-search/data/metric_datasets/{metric_category}/\"\n",
    ")"
   ]
  },
  {
   "cell_type": "code",
   "execution_count": null,
   "id": "20c7963f-9312-4b47-9611-a905f8912701",
   "metadata": {},
   "outputs": [],
   "source": [
    "path_list = []\n",
    "for i, obj in enumerate(obj_list):\n",
    "    if i < 10:\n",
    "        path_list.append(obj.object_name)"
   ]
  },
  {
   "cell_type": "code",
   "execution_count": null,
   "id": "110292f5-bf66-4efb-a13b-d7147e8b5e37",
   "metadata": {},
   "outputs": [],
   "source": [
    "my_object = path_list[0]\n",
    "my_object"
   ]
  },
  {
   "cell_type": "code",
   "execution_count": null,
   "id": "2bdc1134-b8e8-41ab-9db7-4f9fa96b18de",
   "metadata": {},
   "outputs": [],
   "source": []
  },
  {
   "cell_type": "code",
   "execution_count": null,
   "id": "13311660-b4f4-4abe-987e-62bbeaf7feb2",
   "metadata": {},
   "outputs": [],
   "source": [
    "from PIL import Image\n",
    "import torchvision\n",
    "from metrics.consts import RESIZE_TRANSFORM\n",
    "from torchvision.utils import make_grid\n",
    "\n",
    "# Get data of an object.\n",
    "imgs = []\n",
    "for my_object in path_list:\n",
    "    try:\n",
    "        response = client.get_object(\"ml-demo\", my_object)\n",
    "        tmp_img = RESIZE_TRANSFORM(Image.open(response))\n",
    "        imgs.append(tmp_img)                           \n",
    "    finally:\n",
    "        response.close()\n",
    "        response.release_conn()"
   ]
  },
  {
   "cell_type": "code",
   "execution_count": null,
   "id": "e6a327dd-bc5b-4cbc-9d1f-ea8433d7f1c2",
   "metadata": {},
   "outputs": [],
   "source": [
    "grid = make_grid(imgs)\n",
    "grid_img = torchvision.transforms.ToPILImage()(grid)"
   ]
  },
  {
   "cell_type": "code",
   "execution_count": null,
   "id": "e064c43c-d0b0-4da4-8aa3-1899553b1cda",
   "metadata": {},
   "outputs": [],
   "source": [
    "grid_img"
   ]
  },
  {
   "cell_type": "code",
   "execution_count": null,
   "id": "9e438abf-8ae9-4522-be1e-3df753e70dcc",
   "metadata": {},
   "outputs": [],
   "source": []
  }
 ],
 "metadata": {
  "kernelspec": {
   "display_name": "Python 3 (ipykernel)",
   "language": "python",
   "name": "python3"
  },
  "language_info": {
   "codemirror_mode": {
    "name": "ipython",
    "version": 3
   },
   "file_extension": ".py",
   "mimetype": "text/x-python",
   "name": "python",
   "nbconvert_exporter": "python",
   "pygments_lexer": "ipython3",
   "version": "3.8.10"
  }
 },
 "nbformat": 4,
 "nbformat_minor": 5
}
