{
 "cells": [
  {
   "cell_type": "code",
   "execution_count": null,
   "id": "f701d067-5d96-44f0-ba91-a743636e5a60",
   "metadata": {},
   "outputs": [],
   "source": [
    "import glob\n",
    "import os\n",
    "\n",
    "from minio import Minio"
   ]
  },
  {
   "cell_type": "code",
   "execution_count": null,
   "id": "1758d6e7-9a98-4bd7-807c-4c4d059d334a",
   "metadata": {},
   "outputs": [],
   "source": [
    "pwd"
   ]
  },
  {
   "cell_type": "code",
   "execution_count": null,
   "id": "06fd0c1f-0064-43dd-b388-23c8546a0398",
   "metadata": {},
   "outputs": [],
   "source": [
    "# Define client with service account\n",
    "client = Minio('s3.stxnext.pl',\n",
    "                 access_key='XXvsRjUMUQbrWlW1',\n",
    "                 secret_key='Eocjs3Xr3oMlHYOMN3YAXQLSkAacgwyQ',\n",
    "                 secure=True)\n",
    "\n",
    "client.list_buckets()"
   ]
  },
  {
   "cell_type": "code",
   "execution_count": null,
   "id": "a18c7641-a4ab-4efa-8ced-f0a99f807e0b",
   "metadata": {},
   "outputs": [],
   "source": [
    "def upload_local_directory_to_minio(local_path: str, bucket_name: str, minio_path: str):\n",
    "    \"\"\"\n",
    "    Uploads folder contents from local to MinIO.\n",
    "    \"\"\"\n",
    "    assert os.path.isdir(local_path)\n",
    "    \n",
    "    for i, local_file in glob.glob(local_path + '/**'):\n",
    "        local_file = local_file.replace(os.sep, '/')\n",
    "        if not os.path.isfile(local_file):\n",
    "            upload_local_directory_to_minio(local_file, bucket_name, minio_path)\n",
    "        else:\n",
    "            remote_path = os.path.join(minio_path, local_file)\n",
    "            remote_path = remote_path.replace(os.sep, \"/\")\n",
    "            if i%1000 == 0:\n",
    "                print(remote_path)\n",
    "            client.fput_object(bucket_name, remote_path, local_file)"
   ]
  },
  {
   "cell_type": "code",
   "execution_count": null,
   "id": "6442faf3-c2ba-4fc4-9979-6a8fe0b48b47",
   "metadata": {},
   "outputs": [],
   "source": [
    "upload_local_directory_to_minio(\n",
    "    local_path=\"data/models\",\n",
    "    bucket_name=\"ml-demo\",\n",
    "    minio_path=\"qdrant/v0.10.3/visual-similarity-search\",  # VERY IMPORTANT - LOAD DATA TO A PROPER VERSION OF QDRANT\n",
    ")"
   ]
  },
  {
   "cell_type": "code",
   "execution_count": null,
   "id": "008ecd00-fcf2-49d3-aa02-8de000d0733c",
   "metadata": {},
   "outputs": [],
   "source": [
    "upload_local_directory_to_minio(\n",
    "    local_path=\"data/metric_datasets\",\n",
    "    bucket_name=\"ml-demo\",\n",
    "    minio_path=\"qdrant/v0.10.3/visual-similarity-search\",  # VERY IMPORTANT - LOAD DATA TO A PROPER VERSION OF QDRANT\n",
    ")"
   ]
  },
  {
   "cell_type": "code",
   "execution_count": null,
   "id": "06dd77ab-d31e-44af-a60b-7acf6933437c",
   "metadata": {},
   "outputs": [],
   "source": []
  }
 ],
 "metadata": {
  "kernelspec": {
   "display_name": "Python 3 (ipykernel)",
   "language": "python",
   "name": "python3"
  },
  "language_info": {
   "codemirror_mode": {
    "name": "ipython",
    "version": 3
   },
   "file_extension": ".py",
   "mimetype": "text/x-python",
   "name": "python",
   "nbconvert_exporter": "python",
   "pygments_lexer": "ipython3",
   "version": "3.8.10"
  }
 },
 "nbformat": 4,
 "nbformat_minor": 5
}
